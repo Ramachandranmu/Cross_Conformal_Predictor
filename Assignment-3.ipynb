{
 "cells": [
  {
   "cell_type": "code",
   "execution_count": 160,
   "metadata": {},
   "outputs": [],
   "source": [
    "from sklearn.model_selection import train_test_split\n",
    "from sklearn.datasets import load_wine\n",
    "from sklearn.model_selection import cross_val_score\n",
    "from sklearn.svm import SVC\n",
    "from sklearn.preprocessing import MinMaxScaler\n",
    "from sklearn.preprocessing import StandardScaler\n",
    "from sklearn.preprocessing import RobustScaler\n",
    "from sklearn.preprocessing import Normalizer\n",
    "from sklearn.pipeline import Pipeline\n",
    "from sklearn.pipeline import make_pipeline\n",
    "from sklearn.model_selection import GridSearchCV\n",
    "from sklearn.model_selection import KFold\n",
    "import numpy as np\n",
    "import pandas as pd\n",
    "import matplotlib.pyplot as plt\n",
    "\n",
    "wine = load_wine()\n",
    "\n",
    "wine_X_train, wine_X_test, wine_y_train, wine_y_test = train_test_split(wine['data'], wine['target'], random_state=7196)\n",
    "\n",
    "USPS_train_data = np.genfromtxt(\"zip.train\", delimiter=\"\")\n",
    "USPS_test_data = np.genfromtxt(\"zip.test\", delimiter=\"\")\n",
    "\n",
    "USPS_data = np.r_[USPS_train_data, USPS_test_data]\n",
    "USPS_target = USPS_data[:,0]\n",
    "USPS_data1 = USPS_data[:,1:257]\n",
    "\n",
    "USPS_X_train, USPS_X_test, USPS_y_train, USPS_y_test = train_test_split(USPS_data1, USPS_target, random_state=7196)"
   ]
  },
  {
   "cell_type": "code",
   "execution_count": 161,
   "metadata": {},
   "outputs": [],
   "source": [
    "def cal_cross_val_score(X_train, y_train, X_test, y_test):\n",
    "    best_score = 0\n",
    "    for gamma in [0.001, 0.01, 0.1, 1, 10, 100]:\n",
    "        for C in [0.001, 0.01, 0.1, 1, 10, 100]:\n",
    "            svm = SVC(gamma=gamma, C=C)\n",
    "            scores = cross_val_score(svm, X_train, y_train, cv=5)\n",
    "            score = np.mean(scores)\n",
    "            if score > best_score:\n",
    "                best_score = score\n",
    "                best_C = C\n",
    "                best_gamma = gamma\n",
    "\n",
    "    svm = SVC(C=best_C, gamma=best_gamma)\n",
    "    svm.fit(X_train, y_train)\n",
    "\n",
    "    print(\"The Generalization accuracy for 5-fold cross validation is : {}\".format(best_score))\n",
    "    print(\"Best parameters C and gamma:\", best_C, best_gamma)\n",
    "    test_score = svm.score(X_test, y_test)\n",
    "    print(\"The test error rate is :\", 1-test_score)"
   ]
  },
  {
   "cell_type": "markdown",
   "metadata": {},
   "source": [
    "### Cross-validation accuracy and Test error rate for wine dataset:"
   ]
  },
  {
   "cell_type": "code",
   "execution_count": 162,
   "metadata": {},
   "outputs": [
    {
     "name": "stdout",
     "output_type": "stream",
     "text": [
      "The Generalization accuracy for 5-fold cross validation is : 0.7817663817663817\n",
      "Best parameters C and gamma: 100 0.001\n",
      "The test error rate is : 0.2666666666666667\n"
     ]
    }
   ],
   "source": [
    "cal_cross_val_score(wine_X_train, wine_y_train, wine_X_test, wine_y_test)"
   ]
  },
  {
   "cell_type": "markdown",
   "metadata": {},
   "source": [
    "### Cross-Validation accuracy and Test error rate for USPS dataset:"
   ]
  },
  {
   "cell_type": "code",
   "execution_count": 164,
   "metadata": {},
   "outputs": [
    {
     "name": "stdout",
     "output_type": "stream",
     "text": [
      "The Generalization accuracy for 5-fold cross validation is : 0.9741857319901472\n",
      "Best parameters C and gamma: 10 0.01\n",
      "The test error rate is : 0.021935483870967776\n"
     ]
    }
   ],
   "source": [
    "cal_cross_val_score(USPS_X_train, USPS_y_train, USPS_X_test, USPS_y_test)"
   ]
  },
  {
   "cell_type": "code",
   "execution_count": 165,
   "metadata": {},
   "outputs": [],
   "source": [
    "def define_pipeline(X_train, y_train, counter):\n",
    "    if counter == 0:\n",
    "        pipe = Pipeline([(\"scaler\", MinMaxScaler()), (\"svm\", SVC())])\n",
    "    else:\n",
    "        pipe = Pipeline([(\"scaler\", Normalizer()), (\"svm\", SVC())])\n",
    "    pipe.fit(X_train, y_train)   \n",
    "    param_grid = {'svm__C': [0.001, 0.01, 0.1, 1, 10, 100],\n",
    "    'svm__gamma': [0.001, 0.01, 0.1, 1, 10, 100]}\n",
    "    grid = GridSearchCV(pipe, param_grid=param_grid, cv=5, n_jobs = -1)\n",
    "    grid.fit(X_train, y_train)\n",
    "    print(\"Best cross-validation accuracy: {:.2f}\".format(grid.best_score_))\n",
    "    print(\"Best parameters: {}\".format(grid.best_params_))\n",
    "    return grid"
   ]
  },
  {
   "cell_type": "code",
   "execution_count": 166,
   "metadata": {},
   "outputs": [],
   "source": [
    "def cross_conformal_predictor(grid, X_train, y_train, X_test, y_test):\n",
    "    rank_map = dict([])\n",
    "    iterator = 0\n",
    "    kf = KFold(n_splits=5, random_state=7196, shuffle=True)\n",
    "    conformity_score_test = grid.decision_function(X_test)\n",
    "    for rest_index, fold_index in kf.split(X_train):\n",
    "        X_rest, X_fold = X_train[rest_index], X_train[fold_index]\n",
    "        y_rest, y_fold = y_train[rest_index], y_train[fold_index]\n",
    "        grid.fit(X_rest,y_rest)\n",
    "        conformity_score_fold = grid.decision_function(X_fold)\n",
    "        rank_array = []\n",
    "        iterator = iterator+1\n",
    "        for i in range(len(conformity_score_test)):\n",
    "            conformity_score_fold_temp = np.vstack([conformity_score_fold,conformity_score_test[i]])\n",
    "            df = pd.DataFrame(conformity_score_fold_temp)\n",
    "            df1 = df.rank(method='max')\n",
    "            test_sample_index = len(df1.index)-1\n",
    "            rank_array.append(df1.iloc[[test_sample_index]].to_numpy())\n",
    "        rank_map[iterator] = rank_array  \n",
    "\n",
    "    final_rank_array = np.zeros((len(X_test),len(np.unique(y_test))))\n",
    "    for i in range(1,len(rank_map.keys())+1):\n",
    "        t_array = rank_map[i]\n",
    "        for j in range(len(t_array)): \n",
    "            final_rank_array[j] = final_rank_array[j]+t_array[j]-1\n",
    "\n",
    "    p_value_array = np.zeros((len(X_test),len(np.unique(y_test))))\n",
    "    for i in range(len(final_rank_array)):\n",
    "        p_value_array[i] = final_rank_array[i]+1\n",
    "        p_value_array[i] = p_value_array[i]/(len(X_train)+1)\n",
    "    \n",
    "    return p_value_array"
   ]
  },
  {
   "cell_type": "code",
   "execution_count": 167,
   "metadata": {},
   "outputs": [],
   "source": [
    "def plot_error_rate(X_test,y_test,p_value_array):\n",
    "    eps = np.zeros(100) \n",
    "    err = np.zeros(100) \n",
    "    for k in range(100):\n",
    "        eps[k] = k/100 \n",
    "        err[k] = 0 \n",
    "        for j in range(len(X_test)):\n",
    "            if (p_value_array[j,int(y_test[j])] <= eps[k]): \n",
    "                err[k] = err[k] + 1 \n",
    "        err[k] = err[k] / len(X_test) \n",
    "    plt.plot(eps,err)\n",
    "    plt.xlabel('Significance level (ε)')\n",
    "    plt.ylabel('percentage of errors')"
   ]
  },
  {
   "cell_type": "markdown",
   "metadata": {},
   "source": [
    "### Cross-validation accuracy using GridSearchCV and Pipeline for wine dataset:"
   ]
  },
  {
   "cell_type": "markdown",
   "metadata": {},
   "source": [
    "On experimenting with different types of normalization, I found MinMaxScaler to have the highest cross-validation accuracy and lowest test error rate for wine dataset for random state 7196. Hence, selecting MinMaxScaler as the function for data normalization. Also, another interesting observation which I noted was for different random states, the normalization values kept changing. "
   ]
  },
  {
   "cell_type": "code",
   "execution_count": 168,
   "metadata": {},
   "outputs": [
    {
     "name": "stdout",
     "output_type": "stream",
     "text": [
      "-------------------MinMaxScaler----------------------\n",
      "Best cross-validation accuracy: 0.99\n",
      "Best parameters: {'svm__C': 0.1, 'svm__gamma': 1}\n",
      "--------------------Normalizer-----------------------\n",
      "Best cross-validation accuracy: 0.95\n",
      "Best parameters: {'svm__C': 100, 'svm__gamma': 100}\n"
     ]
    }
   ],
   "source": [
    "print(\"-------------------MinMaxScaler----------------------\")\n",
    "grid_wine_minmax = define_pipeline(wine_X_train,wine_y_train, 0)\n",
    "print(\"--------------------Normalizer-----------------------\")\n",
    "grid_wine_normalizer = define_pipeline(wine_X_train,wine_y_train, 1)"
   ]
  },
  {
   "cell_type": "markdown",
   "metadata": {},
   "source": [
    "### Test error Rate using GridSearchCV and Pipeline for wine dataset:"
   ]
  },
  {
   "cell_type": "code",
   "execution_count": 169,
   "metadata": {},
   "outputs": [
    {
     "name": "stdout",
     "output_type": "stream",
     "text": [
      "Test error rate of wine dataset using MinMaxScaler: 0.07\n",
      "Test error rate of wine dataset using Normalizer: 0.11\n"
     ]
    }
   ],
   "source": [
    "print(\"Test error rate of wine dataset using MinMaxScaler: {:.2f}\".format(1-grid_wine_minmax.score(wine_X_test, wine_y_test)))\n",
    "print(\"Test error rate of wine dataset using Normalizer: {:.2f}\".format(1-grid_wine_normalizer.score(wine_X_test, wine_y_test)))"
   ]
  },
  {
   "cell_type": "markdown",
   "metadata": {},
   "source": [
    "### Cross-validation accuracy using GridSearchCV and Pipeline for USPS dataset:"
   ]
  },
  {
   "cell_type": "markdown",
   "metadata": {},
   "source": [
    "On experimenting with different types of normalization, I found Normalizer to have the highest cross-validation accuracy and lowest test error rate for USPS dataset. Hence, selecting Normalizer as the function for data normalization."
   ]
  },
  {
   "cell_type": "code",
   "execution_count": 170,
   "metadata": {},
   "outputs": [
    {
     "name": "stdout",
     "output_type": "stream",
     "text": [
      "--------------------MinMaxScaler----------------------------\n",
      "Best cross-validation accuracy: 0.97\n",
      "Best parameters: {'svm__C': 100, 'svm__gamma': 0.01}\n",
      "---------------------Normalizer-----------------------------\n",
      "Best cross-validation accuracy: 0.97\n",
      "Best parameters: {'svm__C': 10, 'svm__gamma': 1}\n"
     ]
    }
   ],
   "source": [
    "print(\"--------------------MinMaxScaler----------------------------\")\n",
    "grid_USPS_minmax = define_pipeline(USPS_X_train,USPS_y_train, 0)\n",
    "print(\"---------------------Normalizer-----------------------------\")\n",
    "grid_USPS_normalizer = define_pipeline(USPS_X_train,USPS_y_train, 1)"
   ]
  },
  {
   "cell_type": "markdown",
   "metadata": {},
   "source": [
    "### Test error Rate using GridSearchCV and Pipeline for USPS dataset:"
   ]
  },
  {
   "cell_type": "code",
   "execution_count": 171,
   "metadata": {},
   "outputs": [
    {
     "name": "stdout",
     "output_type": "stream",
     "text": [
      "Test error rate of USPS dataset using MinMaxScaler: 0.03\n",
      "Test error rate of USPS dataset using Normalizer: 0.03\n"
     ]
    }
   ],
   "source": [
    "print(\"Test error rate of USPS dataset using MinMaxScaler: {:.2f}\".format(1-grid_USPS_minmax.score(USPS_X_test, USPS_y_test)))\n",
    "print(\"Test error rate of USPS dataset using Normalizer: {:.2f}\".format(1-grid_USPS_normalizer.score(USPS_X_test, USPS_y_test)))"
   ]
  },
  {
   "cell_type": "markdown",
   "metadata": {},
   "source": [
    "### Calibration-Curve plot of Cross-Conformal Predictor for wine dataset:"
   ]
  },
  {
   "cell_type": "code",
   "execution_count": 172,
   "metadata": {},
   "outputs": [
    {
     "data": {
      "image/png": "[encoded data removed]",
      "text/plain": [
       "<Figure size 432x288 with 1 Axes>"
      ]
     },
     "metadata": {
      "needs_background": "light"
     },
     "output_type": "display_data"
    }
   ],
   "source": [
    "p_value_array_wine = cross_conformal_predictor(grid_wine_minmax,wine_X_train,wine_y_train,wine_X_test,wine_y_test)\n",
    "plot_error_rate(wine_X_test, wine_y_test, p_value_array_wine)"
   ]
  },
  {
   "cell_type": "markdown",
   "metadata": {},
   "source": [
    "### Calculating Average False P-Value for wine dataset:"
   ]
  },
  {
   "cell_type": "code",
   "execution_count": 173,
   "metadata": {},
   "outputs": [
    {
     "name": "stdout",
     "output_type": "stream",
     "text": [
      "The average false p-value for wine dataset is : 0.47\n"
     ]
    }
   ],
   "source": [
    "sum_p_values = 0\n",
    "for i in range(len(wine_y_test)):\n",
    "    for j in range(len(p_value_array_wine[i])):\n",
    "        sum_p_values = sum_p_values + p_value_array_wine[i][j]\n",
    "    sum_p_values = sum_p_values - p_value_array_wine[i][wine_y_test[i]]\n",
    "print(\"The average false p-value for wine dataset is : {:.2f}\".format(sum_p_values/(2*(len(wine_y_test)))))"
   ]
  },
  {
   "cell_type": "markdown",
   "metadata": {},
   "source": [
    "### Calculating Cross-Conformal Predictor for USPS dataset:"
   ]
  },
  {
   "cell_type": "code",
   "execution_count": 174,
   "metadata": {},
   "outputs": [],
   "source": [
    "p_value_array_USPS = cross_conformal_predictor(grid_USPS_normalizer,USPS_X_train,USPS_y_train,USPS_X_test,USPS_y_test)"
   ]
  },
  {
   "cell_type": "markdown",
   "metadata": {},
   "source": [
    "### Calibration-Curve of Cross-Conformal Predictor for USPS dataset:"
   ]
  },
  {
   "cell_type": "code",
   "execution_count": 175,
   "metadata": {},
   "outputs": [
    {
     "data": {
      "image/png": "[encoded data removed]",
      "text/plain": [
       "<Figure size 432x288 with 1 Axes>"
      ]
     },
     "metadata": {
      "needs_background": "light"
     },
     "output_type": "display_data"
    }
   ],
   "source": [
    "plot_error_rate(USPS_X_test, USPS_y_test, p_value_array_USPS)"
   ]
  },
  {
   "cell_type": "markdown",
   "metadata": {},
   "source": [
    "### Calculating Average False P-Value for USPS dataset:"
   ]
  },
  {
   "cell_type": "code",
   "execution_count": 179,
   "metadata": {},
   "outputs": [
    {
     "name": "stdout",
     "output_type": "stream",
     "text": [
      "The average false p-value for USPS dataset is : 0.51\n"
     ]
    }
   ],
   "source": [
    "sum_p_values = 0\n",
    "for i in range(len(USPS_y_test)):\n",
    "    for j in range(len(p_value_array_USPS[i])):\n",
    "        sum_p_values = sum_p_values + p_value_array_USPS[i][j]\n",
    "    sum_p_values = sum_p_values - p_value_array_USPS[i][int(USPS_y_test[i])]\n",
    "print(\"The average false p-value for USPS dataset is : {:.2f}\".format(sum_p_values/(8*(len(USPS_y_test)))))"
   ]
  },
  {
   "cell_type": "code",
   "execution_count": null,
   "metadata": {},
   "outputs": [],
   "source": []
  }
 ],
 "metadata": {
  "kernelspec": {
   "display_name": "Python 3 (ipykernel)",
   "language": "python",
   "name": "python3"
  },
  "language_info": {
   "codemirror_mode": {
    "name": "ipython",
    "version": 3
   },
   "file_extension": ".py",
   "mimetype": "text/x-python",
   "name": "python",
   "nbconvert_exporter": "python",
   "pygments_lexer": "ipython3",
   "version": "3.9.7"
  }
 },
 "nbformat": 4,
 "nbformat_minor": 4
}
